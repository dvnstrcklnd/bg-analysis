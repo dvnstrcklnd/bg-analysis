{
 "cells": [
  {
   "cell_type": "code",
   "execution_count": null,
   "metadata": {},
   "outputs": [],
   "source": [
    "from dexcom_analysis_lib import *\n",
    "\n",
    "display(HTML(\"<style>.container { width:90% !important; }</style>\"))\n",
    "pd.options.display.max_rows=1000"
   ]
  },
  {
   "cell_type": "code",
   "execution_count": null,
   "metadata": {},
   "outputs": [],
   "source": [
    "de = DexcomExplorer()"
   ]
  },
  {
   "cell_type": "code",
   "execution_count": null,
   "metadata": {},
   "outputs": [],
   "source": [
    "in_range = (90, 150)\n",
    "hypo_range = 54\n",
    "roc_pct = 95\n",
    "\n",
    "window_days = 5\n",
    "backward_window_days = int(window_days / 2)\n",
    "forward_window_days = window_days - backward_window_days\n",
    "\n",
    "window = pd.Timedelta('{} days'.format(window_days))\n",
    "forward_window = pd.Timedelta('{} days'.format(forward_window_days))\n",
    "backward_window = pd.Timedelta('{} days'.format(backward_window_days))\n",
    "\n",
    "one_day = pd.Timedelta('1 days')\n",
    "\n",
    "plot_start_date = min(de.bg_data['Timestamp']) #'2019-08-12'\n",
    "plot_start_date = pd.Timestamp(pd.to_datetime(plot_start_date).date())\n",
    "\n",
    "plot_end_date = max(de.bg_data['Timestamp']) #'today'\n",
    "plot_end_date = pd.Timestamp(pd.to_datetime(plot_end_date).date() + one_day)\n",
    "\n",
    "plot_window_mask = (de.bg_data['Timestamp'] > plot_start_date) & (de.bg_data['Timestamp'] <= plot_end_date)\n",
    "plot_window_data = de.bg_data.loc[plot_window_mask]\n",
    "\n",
    "offset = (forward_window - backward_window) / 2\n",
    "\n",
    "end_date = plot_end_date\n",
    "\n",
    "all_stats = []\n",
    "\n",
    "while True:\n",
    "    start_date = end_date - one_day\n",
    "    if start_date < plot_start_date: break\n",
    "        \n",
    "    window_start_date = start_date - backward_window\n",
    "    window_end_date = start_date + forward_window\n",
    "        \n",
    "    date_mask = (plot_window_data['Timestamp'] > window_start_date) & (plot_window_data['Timestamp'] <= window_end_date)\n",
    "    day_data = plot_window_data.loc[date_mask]\n",
    "    \n",
    "    bg_values = day_data[\"Glucose Value (mg/dL)\"]\n",
    "    \n",
    "    if len(bg_values) > 0:\n",
    "        hypo_points = [x for x in bg_values if x < hypo_range]\n",
    "        low_points = [x for x in bg_values if x < in_range[0]]\n",
    "        high_points = [x for x in bg_values if x > in_range[1]]\n",
    "        \n",
    "        n_points = len(bg_values)\n",
    "        n_hypo = len(hypo_points)\n",
    "        n_low = len(low_points)\n",
    "        n_high = len(high_points)\n",
    "        n_in_range = n_points - n_low - n_high\n",
    "        \n",
    "        pct_hypo = 100 * n_hypo / n_points\n",
    "        pct_low = 100 * n_low / n_points\n",
    "        pct_high = 100 * n_high / n_points\n",
    "        pct_in_range = 100 * n_in_range / n_points\n",
    "        \n",
    "        abs_rate_of_change = day_data[\"derivative\"].dropna().abs()\n",
    "        percentile_rate_of_change = np.percentile(abs_rate_of_change, roc_pct)\n",
    "\n",
    "        row = {\n",
    "            'date': start_date + offset,\n",
    "            '10%': np.percentile(bg_values, 10),\n",
    "            '90%': np.percentile(bg_values, 90),\n",
    "            'mean_rate_of_change': abs_rate_of_change.mean(),\n",
    "            'pct_in_range': pct_in_range,\n",
    "            'pct_hypo': pct_hypo,\n",
    "            '{}%_rate_of_change'.format(roc_pct): np.percentile(abs_rate_of_change, roc_pct)\n",
    "        }\n",
    "\n",
    "        for k, v in bg_values.describe().items():\n",
    "            row[k] = v\n",
    "\n",
    "        all_stats.append(row)\n",
    "    \n",
    "    end_date = start_date\n",
    "    \n",
    "all_stats = pd.DataFrame(data=all_stats)"
   ]
  },
  {
   "cell_type": "code",
   "execution_count": null,
   "metadata": {
    "scrolled": false
   },
   "outputs": [],
   "source": [
    "de.plot_summary(plot_window_data, all_stats)"
   ]
  },
  {
   "cell_type": "code",
   "execution_count": null,
   "metadata": {
    "scrolled": false
   },
   "outputs": [],
   "source": [
    "fig = go.Figure()\n",
    "\n",
    "fig.add_trace(go.Scatter(\n",
    "                x=plot_window_data['Timestamp'],\n",
    "                y=plot_window_data[\"derivative\"],\n",
    "                name='points',\n",
    "                line_color='black',\n",
    "                opacity=0.5))\n",
    "\n",
    "fig.update_layout(title_text=\"Blood Glucose Rate of Change\",\n",
    "                  xaxis_rangeslider_visible=True,\n",
    "                  template=\"plotly_white\",\n",
    "                  yaxis_range=[-10,10],\n",
    "                  yaxis_dtick=2,\n",
    "                  xaxis_title=\"Date\",\n",
    "                  yaxis_title=\"BG Rate of Change (mg/dL/min)\"\n",
    "                 )\n",
    "fig.show()"
   ]
  },
  {
   "cell_type": "code",
   "execution_count": null,
   "metadata": {
    "scrolled": false
   },
   "outputs": [],
   "source": [
    "fig = go.Figure()\n",
    "\n",
    "fig.add_trace(go.Scatter(\n",
    "                x=all_stats.date,\n",
    "                y=all_stats['std'],\n",
    "                name='std',\n",
    "                line_color='black',\n",
    "                opacity=0.5))\n",
    "\n",
    "fig.update_layout(title_text=\"Blood Glucose Standard Deviation\",\n",
    "                  xaxis_rangeslider_visible=True,\n",
    "                  template=\"plotly_white\",\n",
    "                  yaxis_range=[30,70],\n",
    "                  yaxis_dtick=5,\n",
    "                  xaxis_title=\"Date\",\n",
    "                  yaxis_title=\"BG Std. Dev. (mg/dL)\"\n",
    "                 )\n",
    "fig.show()"
   ]
  },
  {
   "cell_type": "code",
   "execution_count": null,
   "metadata": {
    "scrolled": false
   },
   "outputs": [],
   "source": [
    "fig = go.Figure()\n",
    "\n",
    "fig.add_trace(go.Scatter(\n",
    "                x=all_stats.date,\n",
    "                y=all_stats['{}%_rate_of_change'.format(roc_pct)],\n",
    "                name='{}%_rate_of_change'.format(roc_pct),\n",
    "                line_color='black',\n",
    "                opacity=0.5))\n",
    "\n",
    "fig.update_layout(title_text=\"Blood Glucose {}th Percentile Rate of Change\".format(roc_pct),\n",
    "                  xaxis_rangeslider_visible=True,\n",
    "                  template=\"plotly_white\",\n",
    "                  yaxis_range=[1.5,3],\n",
    "                  yaxis_dtick=0.25,\n",
    "                  xaxis_title=\"Date\",\n",
    "                  yaxis_title=\"BG {}th Pctle. Rate of Change (mg/dL/min)\".format(roc_pct)\n",
    "                 )\n",
    "fig.show()"
   ]
  },
  {
   "cell_type": "code",
   "execution_count": null,
   "metadata": {
    "scrolled": false
   },
   "outputs": [],
   "source": [
    "fig = go.Figure()\n",
    "\n",
    "fig.add_trace(go.Scatter(\n",
    "                x=all_stats.date,\n",
    "                y=all_stats['pct_in_range'],\n",
    "                name='pct_in_range',\n",
    "                line_color='black',\n",
    "                opacity=0.5))\n",
    "\n",
    "fig.update_layout(title_text=\"Blood Glucose Percent in Range ({}–{} mg/dL)\".format(in_range[0], in_range[1]),\n",
    "                  xaxis_rangeslider_visible=True,\n",
    "                  template=\"plotly_white\",\n",
    "                  yaxis_range=[25,75],\n",
    "                  yaxis_dtick=5,\n",
    "                  xaxis_title=\"Date\",\n",
    "                  yaxis_title=\"BG Percent in Range\"\n",
    "                 )\n",
    "fig.show()"
   ]
  },
  {
   "cell_type": "code",
   "execution_count": null,
   "metadata": {
    "scrolled": false
   },
   "outputs": [],
   "source": [
    "fig = go.Figure()\n",
    "\n",
    "fig.add_trace(go.Scatter(\n",
    "                x=all_stats.date,\n",
    "                y=all_stats['pct_hypo'],\n",
    "                name='pct_hypo',\n",
    "                line_color='black',\n",
    "                opacity=0.5))\n",
    "\n",
    "fig.update_layout(title_text=\"Blood Glucose Percent Hypoglycemic (< {} mg/dL)\".format(hypo_range),\n",
    "                  xaxis_rangeslider_visible=True,\n",
    "                  template=\"plotly_white\",\n",
    "                  yaxis_range=[-0.1,0.5],\n",
    "                  yaxis_dtick=0.1,\n",
    "                  xaxis_title=\"Date\",\n",
    "                  yaxis_title=\"BG Percent Hypoglycemic\".format(hypo_range)\n",
    "                 )\n",
    "fig.show()"
   ]
  },
  {
   "cell_type": "code",
   "execution_count": null,
   "metadata": {},
   "outputs": [],
   "source": []
  }
 ],
 "metadata": {
  "kernelspec": {
   "display_name": "Python 3",
   "language": "python",
   "name": "python3"
  },
  "language_info": {
   "codemirror_mode": {
    "name": "ipython",
    "version": 3
   },
   "file_extension": ".py",
   "mimetype": "text/x-python",
   "name": "python",
   "nbconvert_exporter": "python",
   "pygments_lexer": "ipython3",
   "version": "3.7.3"
  }
 },
 "nbformat": 4,
 "nbformat_minor": 2
}
